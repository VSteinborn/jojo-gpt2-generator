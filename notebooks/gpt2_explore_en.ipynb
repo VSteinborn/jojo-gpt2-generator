{
 "cells": [
  {
   "cell_type": "markdown",
   "metadata": {},
   "source": [
    "# Jojo Generator\n",
    "\n",
    "03.09.2022\n",
    "\n",
    "---\n",
    "\n",
    "Jojo subtibles from Netflix, using the Language Reactor add-on: https://www.languagereactor.com/\n"
   ]
  },
  {
   "cell_type": "code",
   "execution_count": 1,
   "metadata": {},
   "outputs": [],
   "source": [
    "import pandas as pd\n",
    "from transformers import GPT2LMHeadModel, GPT2Config, GPT2Tokenizer\n",
    "from torch.utils.data import Dataset \n",
    "import torch\n",
    "import time\n",
    "import datetime\n",
    "from torch.utils.data import random_split\n",
    "from torch.utils.data import DataLoader, RandomSampler, SequentialSampler\n",
    "import matplotlib\n",
    "import matplotlib.pyplot as plt\n",
    "import os\n",
    "from os.path import join, splitext\n"
   ]
  },
  {
   "cell_type": "code",
   "execution_count": 2,
   "metadata": {},
   "outputs": [],
   "source": [
    "data_dir='../data/'\n",
    "df = pd.DataFrame()\n",
    "for filename in os.listdir(data_dir):\n",
    "    file_path = join(data_dir,filename)\n",
    "    read_df = pd.read_excel(file_path)\n",
    "    filename_ext_striped = splitext(filename)[0]\n",
    "    read_df['Episode'] = filename_ext_striped\n",
    "    df=pd.concat([df,read_df], ignore_index=True)\n",
    "# pd.read_excel('../data/S1-E01.xlsx')"
   ]
  },
  {
   "cell_type": "code",
   "execution_count": 3,
   "metadata": {},
   "outputs": [],
   "source": [
    "df[\"clean_subtitle\"]=df.apply(lambda x: x[\"Translation\"].replace('\\n',' '), axis=1)\n",
    "all_subtitles=df[\"clean_subtitle\"].to_list()"
   ]
  },
  {
   "cell_type": "code",
   "execution_count": 4,
   "metadata": {},
   "outputs": [
    {
     "data": {
      "text/plain": [
       "28779"
      ]
     },
     "execution_count": 4,
     "metadata": {},
     "output_type": "execute_result"
    }
   ],
   "source": [
    "len(all_subtitles)"
   ]
  },
  {
   "cell_type": "code",
   "execution_count": 5,
   "metadata": {},
   "outputs": [
    {
     "name": "stderr",
     "output_type": "stream",
     "text": [
      "Special tokens have been added in the vocabulary, make sure the associated word embeddings are fine-tuned or trained.\n"
     ]
    }
   ],
   "source": [
    "tokenizer = GPT2Tokenizer.from_pretrained('gpt2', bos_token='<sos>', eos_token='<eos>', pad_token='<pad>')"
   ]
  },
  {
   "cell_type": "code",
   "execution_count": 6,
   "metadata": {},
   "outputs": [
    {
     "name": "stdout",
     "output_type": "stream",
     "text": [
      "max_len: 36\n"
     ]
    }
   ],
   "source": [
    "max_len = max([len(tokenizer.encode(s)) for s in all_subtitles])\n",
    "print(f\"max_len: {max_len}\")"
   ]
  },
  {
   "cell_type": "code",
   "execution_count": 7,
   "metadata": {},
   "outputs": [],
   "source": [
    "def tokenize_seq(sent,tokenizer,max_length):\n",
    "  return tokenizer('<sos>'+ sent + '<eos>', truncation=True, max_length=max_length, padding=\"max_length\")\n",
    "\n",
    "class SubtitleDataset(Dataset):\n",
    "\n",
    "  def __init__(self, sentences, tokenizer, gpt2_type=\"gpt2\", max_length=max_len):\n",
    "\n",
    "    self.tokenizer = tokenizer \n",
    "    self.input_ids = []\n",
    "    self.attn_masks = []\n",
    "\n",
    "    for sentence in sentences:      \n",
    "      encodings = tokenize_seq(sentence,tokenizer,max_length)\n",
    "            \n",
    "      self.input_ids.append(torch.tensor(encodings['input_ids']))\n",
    "      self.attn_masks.append(torch.tensor(encodings['attention_mask']))\n",
    "    \n",
    "  def __len__(self):\n",
    "    return len(self.input_ids)\n",
    "\n",
    "  def __getitem__(self, idx):\n",
    "    return self.input_ids[idx], self.attn_masks[idx]   \n",
    "\n",
    "def format_time(elapsed):\n",
    "    return str(datetime.timedelta(seconds=int(round((elapsed))))) "
   ]
  },
  {
   "cell_type": "code",
   "execution_count": 8,
   "metadata": {},
   "outputs": [
    {
     "data": {
      "text/plain": [
       "2531"
      ]
     },
     "execution_count": 8,
     "metadata": {},
     "output_type": "execute_result"
    }
   ],
   "source": [
    "import gc\n",
    "gc.collect() "
   ]
  },
  {
   "cell_type": "code",
   "execution_count": 9,
   "metadata": {},
   "outputs": [
    {
     "name": "stdout",
     "output_type": "stream",
     "text": [
      "train_size : 28491\n",
      "val_size   : 288\n"
     ]
    },
    {
     "data": {
      "text/plain": [
       "0"
      ]
     },
     "execution_count": 9,
     "metadata": {},
     "output_type": "execute_result"
    }
   ],
   "source": [
    "#create an instance of Dataset\n",
    "dataset = SubtitleDataset(all_subtitles, tokenizer, max_length=max_len)\n",
    "\n",
    "# Split into training and validation sets\n",
    "train_size = int(0.99 * len(dataset))\n",
    "val_size = len(dataset) - train_size\n",
    "\n",
    "train_set, val_set = random_split(dataset, [train_size, val_size])\n",
    "print(\"train_size :\",train_size)\n",
    "print(\"val_size   :\",val_size)\n",
    "\n",
    "gc.collect() "
   ]
  },
  {
   "cell_type": "code",
   "execution_count": 10,
   "metadata": {},
   "outputs": [
    {
     "data": {
      "text/plain": [
       "(tensor([50257,   464,   275,  1647,   599,  1127,   286,   428,  9335,   389,\n",
       "          1498,   284,   366, 14689,     1,   262,  1692,  3632,  2252,    13,\n",
       "         50258, 50259, 50259, 50259, 50259, 50259, 50259, 50259, 50259, 50259,\n",
       "         50259, 50259, 50259, 50259, 50259, 50259]),\n",
       " tensor([1, 1, 1, 1, 1, 1, 1, 1, 1, 1, 1, 1, 1, 1, 1, 1, 1, 1, 1, 1, 1, 0, 0, 0,\n",
       "         0, 0, 0, 0, 0, 0, 0, 0, 0, 0, 0, 0]))"
      ]
     },
     "execution_count": 10,
     "metadata": {},
     "output_type": "execute_result"
    }
   ],
   "source": [
    "dataset[0]"
   ]
  },
  {
   "cell_type": "code",
   "execution_count": 11,
   "metadata": {},
   "outputs": [],
   "source": [
    "train_dataloader = DataLoader(train_set,  sampler = RandomSampler(train_set), batch_size = 32)\n",
    "validation_dataloader = DataLoader(val_set, sampler = SequentialSampler(val_set), batch_size = 32 )"
   ]
  },
  {
   "cell_type": "code",
   "execution_count": 12,
   "metadata": {},
   "outputs": [],
   "source": [
    "# Create default config\n",
    "configuration = GPT2Config.from_pretrained('gpt2', output_hidden_states=False)\n",
    "# Load pretrained gpt2\n",
    "model = GPT2LMHeadModel.from_pretrained(\"gpt2\", config=configuration)\n",
    "model.resize_token_embeddings(len(tokenizer))\n",
    "\n",
    "# Create device\n",
    "device = torch.device(\"cuda\")\n",
    "model.cuda()\n",
    "\n",
    "\n",
    "optimizer = torch.optim.Adam(model.parameters(),lr = 0.0005)\n",
    "model = model.to(device)"
   ]
  },
  {
   "cell_type": "code",
   "execution_count": 13,
   "metadata": {},
   "outputs": [],
   "source": [
    "#at every step i want to check if generations are getting better.\n",
    "def eval_keywords(keywords):\n",
    "  model.eval()\n",
    "  for keyword in keywords:\n",
    "    input_seq = \"<sos> \" + keyword\n",
    "    generated = torch.tensor(tokenizer.encode(input_seq)).unsqueeze(0)\n",
    "    generated = generated.to(device)\n",
    "    sample_outputs = model.generate(\n",
    "                                generated, \n",
    "                                do_sample=True,   \n",
    "                                top_k=25, \n",
    "                                max_length = 32,\n",
    "                                top_p=0.90, \n",
    "                                num_return_sequences=2\n",
    "                                )\n",
    "    for i, sample_output in enumerate(sample_outputs):\n",
    "      print(\"{}: {}\".format(i, tokenizer.decode(sample_output, skip_special_tokens=True)))\n",
    "\n",
    "keywords = [\"Jojo,\",\"This\",\"Wonder\"]"
   ]
  },
  {
   "cell_type": "code",
   "execution_count": 14,
   "metadata": {},
   "outputs": [],
   "source": [
    " #call model with a batch of input\n",
    "def process_one_batch(batch):\n",
    "  b_input_ids = batch[0].to(device)\n",
    "  b_labels = batch[0].to(device)\n",
    "  b_masks = batch[1].to(device)\n",
    "  outputs  = model(b_input_ids,  attention_mask = b_masks,labels=b_labels)\n",
    "  return outputs\n",
    "\n",
    "#do one epoch for training\n",
    "def train_epoch():\n",
    "  t0 = time.time()\n",
    "  total_train_loss = 0\n",
    "  model.train()\n",
    "  for step, batch in enumerate(train_dataloader):\n",
    "        \n",
    "        model.zero_grad()        \n",
    "        outputs = process_one_batch( batch)\n",
    "        loss = outputs[0]  \n",
    "        batch_loss = loss.item()\n",
    "        total_train_loss += batch_loss\n",
    "\n",
    "        loss.backward()\n",
    "        optimizer.step()\n",
    "\n",
    "        \n",
    "  avg_train_loss = total_train_loss / len(train_dataloader)  \n",
    "  print(\"avg_train_loss\",avg_train_loss)  \n",
    "  elapsed_time = format_time(time.time() - t0)\n",
    "  print(\"elapsed time for 1 training epoch : \",elapsed_time)\n",
    "  return avg_train_loss\n",
    "\n",
    "#do one epoch for eval\n",
    "def eval_epoch():\n",
    "  t0 = time.time()\n",
    "  total_eval_loss = 0\n",
    "  nb_eval_steps = 0\n",
    "  # Evaluate data for one epoch\n",
    "  for batch in validation_dataloader:            \n",
    "        \n",
    "    with torch.no_grad():        \n",
    "      outputs = process_one_batch( batch)\n",
    "      loss = outputs[0]              \n",
    "      batch_loss = loss.item()\n",
    "      total_eval_loss += batch_loss         \n",
    "\n",
    "  avg_val_loss = total_eval_loss / len(validation_dataloader)\n",
    "  print(\"avg_val_loss\",avg_val_loss) \n",
    "  elapsed_time = format_time(time.time() - t0)\n",
    "  print(\"elapsed time for 1 eval epoch : \",elapsed_time)\n",
    "  return avg_val_loss"
   ]
  },
  {
   "cell_type": "code",
   "execution_count": 15,
   "metadata": {},
   "outputs": [
    {
     "name": "stdout",
     "output_type": "stream",
     "text": [
      "avg_train_loss 1.3559697095124943\n",
      "elapsed time for 1 training epoch :  0:04:01\n"
     ]
    },
    {
     "name": "stderr",
     "output_type": "stream",
     "text": [
      "The attention mask and the pad token id were not set. As a consequence, you may observe unexpected behavior. Please pass your input's `attention_mask` to obtain reliable results.\n",
      "Setting `pad_token_id` to `eos_token_id`:50256 for open-end generation.\n"
     ]
    },
    {
     "name": "stdout",
     "output_type": "stream",
     "text": [
      "avg_val_loss 0.9159683916303847\n",
      "elapsed time for 1 eval epoch :  0:00:01\n"
     ]
    },
    {
     "name": "stderr",
     "output_type": "stream",
     "text": [
      "The attention mask and the pad token id were not set. As a consequence, you may observe unexpected behavior. Please pass your input's `attention_mask` to obtain reliable results.\n",
      "Setting `pad_token_id` to `eos_token_id`:50256 for open-end generation.\n"
     ]
    },
    {
     "name": "stdout",
     "output_type": "stream",
     "text": [
      "0:  Jojo, you know that I'm not in your way!\n",
      "1:  Jojo, come on!\n"
     ]
    },
    {
     "name": "stderr",
     "output_type": "stream",
     "text": [
      "The attention mask and the pad token id were not set. As a consequence, you may observe unexpected behavior. Please pass your input's `attention_mask` to obtain reliable results.\n",
      "Setting `pad_token_id` to `eos_token_id`:50256 for open-end generation.\n"
     ]
    },
    {
     "name": "stdout",
     "output_type": "stream",
     "text": [
      "0:  This man must be dead!\n",
      "1:  This is a Stand!\n",
      "0:  Wonder why he's not wearing a uniform?\n",
      "1:  Wonder why?\n",
      "avg_train_loss 0.8837382353917517\n",
      "elapsed time for 1 training epoch :  0:03:48\n"
     ]
    },
    {
     "name": "stderr",
     "output_type": "stream",
     "text": [
      "The attention mask and the pad token id were not set. As a consequence, you may observe unexpected behavior. Please pass your input's `attention_mask` to obtain reliable results.\n",
      "Setting `pad_token_id` to `eos_token_id`:50256 for open-end generation.\n"
     ]
    },
    {
     "name": "stdout",
     "output_type": "stream",
     "text": [
      "avg_val_loss 0.8870358930693732\n",
      "elapsed time for 1 eval epoch :  0:00:01\n"
     ]
    },
    {
     "name": "stderr",
     "output_type": "stream",
     "text": [
      "The attention mask and the pad token id were not set. As a consequence, you may observe unexpected behavior. Please pass your input's `attention_mask` to obtain reliable results.\n",
      "Setting `pad_token_id` to `eos_token_id`:50256 for open-end generation.\n"
     ]
    },
    {
     "name": "stdout",
     "output_type": "stream",
     "text": [
      "0:  Jojo, do not let me out!\n",
      "1:  Jojo, that's why I have to break out!\n"
     ]
    },
    {
     "name": "stderr",
     "output_type": "stream",
     "text": [
      "The attention mask and the pad token id were not set. As a consequence, you may observe unexpected behavior. Please pass your input's `attention_mask` to obtain reliable results.\n",
      "Setting `pad_token_id` to `eos_token_id`:50256 for open-end generation.\n"
     ]
    },
    {
     "name": "stdout",
     "output_type": "stream",
     "text": [
      "0:  This is my last chance!\n",
      "1:  This thing can't be!\n",
      "0:  Wonder why you're taking so long to make the coffee.\n",
      "1:  Wonder if you could make my Hamon stronger.\n",
      "avg_train_loss 0.7903000774608316\n",
      "elapsed time for 1 training epoch :  0:03:45\n"
     ]
    },
    {
     "name": "stderr",
     "output_type": "stream",
     "text": [
      "The attention mask and the pad token id were not set. As a consequence, you may observe unexpected behavior. Please pass your input's `attention_mask` to obtain reliable results.\n",
      "Setting `pad_token_id` to `eos_token_id`:50256 for open-end generation.\n"
     ]
    },
    {
     "name": "stdout",
     "output_type": "stream",
     "text": [
      "avg_val_loss 0.8933557271957397\n",
      "elapsed time for 1 eval epoch :  0:00:01\n"
     ]
    },
    {
     "name": "stderr",
     "output_type": "stream",
     "text": [
      "The attention mask and the pad token id were not set. As a consequence, you may observe unexpected behavior. Please pass your input's `attention_mask` to obtain reliable results.\n",
      "Setting `pad_token_id` to `eos_token_id`:50256 for open-end generation.\n"
     ]
    },
    {
     "name": "stdout",
     "output_type": "stream",
     "text": [
      "0:  Jojo, you fool!\n",
      "1:  Jojo, please give us your blessing!\n"
     ]
    },
    {
     "name": "stderr",
     "output_type": "stream",
     "text": [
      "The attention mask and the pad token id were not set. As a consequence, you may observe unexpected behavior. Please pass your input's `attention_mask` to obtain reliable results.\n",
      "Setting `pad_token_id` to `eos_token_id`:50256 for open-end generation.\n"
     ]
    },
    {
     "name": "stdout",
     "output_type": "stream",
     "text": [
      "0:  This isn't an enemy Stand. It's just a duplicate of the enemy Stand.\n",
      "1:  This time, you'll have to die a death match!\n",
      "0:  Wonder why, you little bird.\n",
      "1:  Wonder why?\n"
     ]
    }
   ],
   "source": [
    "train_losses=[]\n",
    "eval_losses=[]\n",
    "for epoch in range(3):\n",
    "    train_loss=train_epoch()\n",
    "    train_losses.append(train_loss)\n",
    "    eval_loss=eval_epoch()\n",
    "    eval_losses.append(eval_loss)\n",
    "    eval_keywords( keywords )"
   ]
  },
  {
   "cell_type": "code",
   "execution_count": 16,
   "metadata": {},
   "outputs": [
    {
     "name": "stderr",
     "output_type": "stream",
     "text": [
      "findfont: Font family ['xkcd', 'xkcd Script', 'Humor Sans', 'Comic Neue', 'Comic Sans MS'] not found. Falling back to DejaVu Sans.\n"
     ]
    },
    {
     "data": {
      "image/png": "[encoded data removed]",
      "text/plain": [
       "<Figure size 432x288 with 1 Axes>"
      ]
     },
     "metadata": {},
     "output_type": "display_data"
    }
   ],
   "source": [
    "%matplotlib inline\n",
    "with plt.xkcd():\n",
    "    fig, ax = plt.subplots()  # Create a figure containing a single axes.\n",
    "    ax.plot(range(1,1+len(train_losses)), train_losses)  # Plot some data on the axes.\n",
    "    ax.plot(range(1,1+len(eval_losses)), eval_losses)  # Plot some data on the axes."
   ]
  },
  {
   "cell_type": "code",
   "execution_count": 17,
   "metadata": {},
   "outputs": [
    {
     "data": {
      "text/plain": [
       "('./gpt2_jojo_en/tokenizer_config.json',\n",
       " './gpt2_jojo_en/special_tokens_map.json',\n",
       " './gpt2_jojo_en/vocab.json',\n",
       " './gpt2_jojo_en/merges.txt',\n",
       " './gpt2_jojo_en/added_tokens.json')"
      ]
     },
     "execution_count": 17,
     "metadata": {},
     "output_type": "execute_result"
    }
   ],
   "source": [
    "model.save_pretrained('./gpt2_jojo_en')\n",
    "tokenizer.save_pretrained('./gpt2_jojo_en')"
   ]
  },
  {
   "cell_type": "code",
   "execution_count": null,
   "metadata": {},
   "outputs": [],
   "source": []
  }
 ],
 "metadata": {
  "kernelspec": {
   "display_name": "Python 3.10.6 64-bit",
   "language": "python",
   "name": "python3"
  },
  "language_info": {
   "codemirror_mode": {
    "name": "ipython",
    "version": 3
   },
   "file_extension": ".py",
   "mimetype": "text/x-python",
   "name": "python",
   "nbconvert_exporter": "python",
   "pygments_lexer": "ipython3",
   "version": "3.10.6"
  },
  "orig_nbformat": 4,
  "vscode": {
   "interpreter": {
    "hash": "aee8b7b246df8f9039afb4144a1f6fd8d2ca17a180786b69acc140d282b71a49"
   }
  }
 },
 "nbformat": 4,
 "nbformat_minor": 2
}
